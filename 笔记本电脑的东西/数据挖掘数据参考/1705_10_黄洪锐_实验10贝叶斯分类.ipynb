{
 "cells": [
  {
   "cell_type": "markdown",
   "metadata": {},
   "source": [
    "### 实验10：贝叶斯分类"
   ]
  },
  {
   "cell_type": "markdown",
   "metadata": {},
   "source": [
    "#### 一：实验目的和要求\n",
    "1．掌握利用Python进行最近邻分类的基本方法<br>\n",
    "2．掌握利用Python进行贝叶斯分类的基本方法<br>\n",
    "3．掌握利用Python进行支持向量机分类的基本方法"
   ]
  },
  {
   "cell_type": "markdown",
   "metadata": {},
   "source": [
    "#### 二：内容和方法\n",
    "***分别使用最近邻分类器、贝叶斯分类器和支持向量机分类器预测马是否患有疝气病，并对识别率进行对比。训练数据和测试数据分别为 7_horseColicTraining.txt 和 7_horseColicTest.txt， 数据有22列，前21列是一些特征，最后一列是病症数据。***\n",
    "实验步骤：<br>\n",
    "    1.用np.loadtxt读取文本文件为变量。<br>\n",
    "    2.用 sklearn.decomposition模块中PCA对象，根据训练样本拟合出PCA降到5维的模型，然后分别对训练样本和测试样本做PCA变换。<br>\n",
    "    3.对PCA降维后的数据，分别使用sklearn模块中的最近邻分类器、贝叶斯分类器和支持向量机分类器预测马是否患有疝气病，并对识别率进行对比。"
   ]
  },
  {
   "cell_type": "markdown",
   "metadata": {},
   "source": [
    "贝叶斯分类器可参考如下代码：\n",
    "\n",
    "from sklearn import datasets\n",
    "iris = datasets.load_iris() # 读取iris数据集\n",
    "from sklearn.naive_bayes import GaussianNB # 使用高斯贝叶斯模型\n",
    "clf = GaussianNB()     # 设置分类器\n",
    "clf.fit(iris.data,iris.target) # 训练分类器\n",
    "y_pred = clf.predict(iris.data) # 预测\n",
    "print(\"训练样本错误率：\" ,(iris.target != y_pred).sum()/iris.data.shape[0])"
   ]
  },
  {
   "cell_type": "code",
   "execution_count": 2,
   "metadata": {},
   "outputs": [
    {
     "data": {
      "text/plain": [
       "(array([[ 2. ,  1. , 38.5, ...,  8.4,  0. ,  0. ],\n",
       "        [ 1. ,  1. , 39.2, ..., 85. ,  2. ,  2. ],\n",
       "        [ 2. ,  1. , 38.3, ...,  6.7,  0. ,  0. ],\n",
       "        ...,\n",
       "        [ 1. ,  1. , 37.5, ...,  6.8,  0. ,  0. ],\n",
       "        [ 1. ,  1. , 36.5, ...,  6. ,  3. ,  3.4],\n",
       "        [ 1. ,  1. , 37.2, ..., 62. ,  1. ,  1. ]]),\n",
       " array([0., 0., 1., 0., 0., 1., 1., 0., 0., 1., 1., 1., 1., 0., 1., 0., 0.,\n",
       "        1., 1., 1., 1., 1., 1., 1., 1., 1., 1., 1., 0., 1., 0., 0., 1., 1.,\n",
       "        1., 0., 0., 1., 1., 0., 0., 1., 1., 0., 0., 0., 1., 1., 0., 0., 1.,\n",
       "        0., 1., 1., 0., 0., 1., 0., 0., 0., 1., 1., 0., 0., 1., 1., 1., 1.,\n",
       "        1., 1., 0., 1., 0., 0., 0., 0., 1., 1., 0., 1., 0., 1., 1., 0., 1.,\n",
       "        1., 0., 0., 1., 1., 1., 0., 1., 0., 1., 1., 1., 0., 1., 1., 1., 0.,\n",
       "        1., 1., 0., 1., 1., 1., 0., 0., 0., 1., 1., 0., 1., 1., 1., 0., 1.,\n",
       "        1., 1., 0., 1., 0., 0., 1., 1., 1., 0., 1., 0., 0., 1., 0., 0., 0.,\n",
       "        1., 1., 1., 1., 0., 0., 1., 0., 1., 1., 0., 1., 1., 1., 0., 1., 1.,\n",
       "        1., 1., 1., 0., 1., 1., 1., 0., 1., 0., 1., 0., 1., 1., 1., 0., 1.,\n",
       "        0., 1., 0., 0., 1., 1., 0., 1., 0., 0., 1., 0., 1., 1., 1., 1., 1.,\n",
       "        1., 1., 1., 1., 1., 0., 1., 1., 0., 0., 1., 1., 1., 0., 0., 1., 1.,\n",
       "        0., 1., 0., 0., 1., 0., 0., 1., 1., 1., 1., 1., 1., 0., 1., 0., 1.,\n",
       "        1., 1., 1., 1., 0., 1., 0., 1., 1., 0., 1., 1., 1., 0., 1., 1., 0.,\n",
       "        0., 0., 1., 0., 1., 1., 0., 1., 0., 1., 1., 0., 0., 0., 1., 1., 0.,\n",
       "        0., 0., 1., 0., 1., 1., 1., 0., 1., 0., 1., 1., 1., 1., 0., 1., 1.,\n",
       "        0., 0., 0., 0., 1., 1., 1., 1., 0., 0., 1., 1., 1., 0., 1., 1., 1.,\n",
       "        1., 0., 0., 0., 1., 0., 0., 0., 1., 0.]),\n",
       " array([[ 2. ,  1. , 38.5, ...,  6.3,  0. ,  0. ],\n",
       "        [ 2. ,  1. , 37.6, ...,  6.3,  1. ,  5. ],\n",
       "        [ 1. ,  1. , 37.7, ..., 70. ,  3. ,  2. ],\n",
       "        ...,\n",
       "        [ 1. ,  1. , 38. , ..., 65. ,  3. ,  2. ],\n",
       "        [ 2. ,  1. , 38. , ...,  5.8,  0. ,  0. ],\n",
       "        [ 2. ,  1. , 37.6, ...,  6. ,  0. ,  0. ]]),\n",
       " array([1., 1., 1., 0., 1., 1., 1., 1., 1., 0., 1., 0., 0., 1., 1., 1., 1.,\n",
       "        0., 0., 0., 1., 1., 0., 0., 1., 1., 1., 1., 1., 1., 1., 1., 1., 0.,\n",
       "        1., 0., 1., 1., 1., 1., 1., 1., 1., 0., 1., 1., 1., 1., 1., 0., 0.,\n",
       "        0., 0., 1., 1., 1., 1., 0., 1., 1., 1., 0., 1., 1., 0., 1., 0.]))"
      ]
     },
     "execution_count": 2,
     "metadata": {},
     "output_type": "execute_result"
    }
   ],
   "source": [
    "# 1.用np.loadtxt读取文本文件为变量。\n",
    "import numpy as np\n",
    "from sklearn.preprocessing import scale\n",
    "\n",
    "# 获取数据并分为训练集与测试集\n",
    "a = np.loadtxt('D:/root/desktop/各科/kk/10/7_horseColicTraining.txt',delimiter='\\t')\n",
    "trainingSet = a[:,0:-1]\n",
    "trainingLabels = a[:,-1]\n",
    "\n",
    "b = np.loadtxt('D:/root/desktop/各科/kk/10/7_horseColicTest.txt',delimiter='\\t')\n",
    "testSet = b[:,0:-1]\n",
    "testLabels = b[:,-1]\n",
    "\n",
    "trainingSet,trainingLabels,testSet,testLabels"
   ]
  },
  {
   "cell_type": "code",
   "execution_count": 3,
   "metadata": {},
   "outputs": [
    {
     "data": {
      "text/plain": [
       "((299, 5), (67, 5))"
      ]
     },
     "execution_count": 3,
     "metadata": {},
     "output_type": "execute_result"
    }
   ],
   "source": [
    "# 2.用 sklearn.decomposition模块中PCA对象，根据训练样本拟合出PCA降到5维的模型，然后分别对训练样本和测试样本做PCA变换。\n",
    "from sklearn.decomposition import PCA\n",
    "model = PCA(n_components=5).fit(trainingSet)\n",
    "trainingSet_pca = model.transform(trainingSet)\n",
    "testSet_pca = model.transform(testSet)\n",
    "\n",
    "trainingSet_pca.shape,testSet_pca.shape"
   ]
  },
  {
   "cell_type": "code",
   "execution_count": 4,
   "metadata": {},
   "outputs": [],
   "source": [
    "import numpy as np\n",
    "import matplotlib.pyplot as plt\n",
    "from matplotlib.colors import ListedColormap\n",
    "from sklearn.neighbors import KNeighborsClassifier\n",
    "\n",
    "cmap_light = ListedColormap(['#FFAAAA', '#AAFFAA', '#AAAAFF'])\n",
    "cmap_bold = ListedColormap(['#FF0000', '#00FF00', '#0000FF'])"
   ]
  },
  {
   "cell_type": "code",
   "execution_count": 5,
   "metadata": {},
   "outputs": [
    {
     "data": {
      "text/plain": [
       "KNeighborsClassifier(algorithm='auto', leaf_size=30, metric='minkowski',\n",
       "                     metric_params=None, n_jobs=None, n_neighbors=15, p=2,\n",
       "                     weights='uniform')"
      ]
     },
     "execution_count": 5,
     "metadata": {},
     "output_type": "execute_result"
    }
   ],
   "source": [
    "# 最近邻分类器\n",
    "clf = KNeighborsClassifier(n_neighbors=15, weights='uniform')  # 初始化分类器\n",
    "clf.fit(trainingSet_pca, trainingLabels)"
   ]
  },
  {
   "cell_type": "code",
   "execution_count": 6,
   "metadata": {},
   "outputs": [
    {
     "name": "stdout",
     "output_type": "stream",
     "text": [
      "最近邻分类器的训练样本错误率： 0.26865671641791045\n"
     ]
    }
   ],
   "source": [
    "clf.fit(trainingSet_pca, trainingLabels) # 训练分类器\n",
    "y1_pred = clf.predict(testSet_pca) # 预测\n",
    "print(\"最近邻分类器的训练样本错误率：\", (testLabels != y1_pred).sum()/testSet_pca.shape[0])"
   ]
  },
  {
   "cell_type": "code",
   "execution_count": 14,
   "metadata": {},
   "outputs": [
    {
     "data": {
      "text/plain": [
       "GaussianNB(priors=None, var_smoothing=1e-09)"
      ]
     },
     "execution_count": 14,
     "metadata": {},
     "output_type": "execute_result"
    }
   ],
   "source": [
    "# 贝叶斯分类器\n",
    "from sklearn.naive_bayes import GaussianNB\n",
    "clf1 = GaussianNB() # 贝叶斯分类器\n",
    "clf1.fit(trainingSet_pca, trainingLabels) # 训练分类器"
   ]
  },
  {
   "cell_type": "code",
   "execution_count": 15,
   "metadata": {},
   "outputs": [
    {
     "name": "stdout",
     "output_type": "stream",
     "text": [
      "贝叶斯分类器的训练样本错误率： 0.26865671641791045\n"
     ]
    }
   ],
   "source": [
    "y2_pred = clf1.predict(testSet_pca) # 预测\n",
    "print(\"贝叶斯分类器的训练样本错误率：\", (testLabels != y2_pred).sum()/testSet_pca.shape[0])"
   ]
  },
  {
   "cell_type": "code",
   "execution_count": 18,
   "metadata": {},
   "outputs": [
    {
     "name": "stdout",
     "output_type": "stream",
     "text": [
      "支持向量机分类器的训练样本错误率： 0.29850746268656714\n"
     ]
    },
    {
     "name": "stderr",
     "output_type": "stream",
     "text": [
      "D:\\root\\software\\anaconda\\lib\\site-packages\\sklearn\\svm\\base.py:193: FutureWarning: The default value of gamma will change from 'auto' to 'scale' in version 0.22 to account better for unscaled features. Set gamma explicitly to 'auto' or 'scale' to avoid this warning.\n",
      "  \"avoid this warning.\", FutureWarning)\n"
     ]
    }
   ],
   "source": [
    "from sklearn import svm\n",
    "clf3 = svm.SVC() # 支持向量机分类器\n",
    "clf3.fit(trainingSet_pca, trainingLabels) # 训练分类器\n",
    "y3_pred = clf3.predict(testSet_pca) # 预测\n",
    "print(\"支持向量机分类器的训练样本错误率：\", (testLabels != y3_pred).sum()/testSet_pca.shape[0])"
   ]
  },
  {
   "cell_type": "code",
   "execution_count": null,
   "metadata": {},
   "outputs": [],
   "source": []
  }
 ],
 "metadata": {
  "kernelspec": {
   "display_name": "Python 3",
   "language": "python",
   "name": "python3"
  },
  "language_info": {
   "codemirror_mode": {
    "name": "ipython",
    "version": 3
   },
   "file_extension": ".py",
   "mimetype": "text/x-python",
   "name": "python",
   "nbconvert_exporter": "python",
   "pygments_lexer": "ipython3",
   "version": "3.7.4"
  }
 },
 "nbformat": 4,
 "nbformat_minor": 2
}
