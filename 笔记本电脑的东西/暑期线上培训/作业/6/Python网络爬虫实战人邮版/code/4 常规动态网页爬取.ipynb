{
 "cells": [
  {
   "cell_type": "markdown",
   "metadata": {},
   "source": [
    "# 逆向分析爬取动态网页"
   ]
  },
  {
   "cell_type": "code",
   "execution_count": null,
   "metadata": {},
   "outputs": [],
   "source": [
    "import requests\n",
    "rqq = requests.get('http://www.ptpress.com.cn/bookinfo/getBookListForWS')"
   ]
  },
  {
   "cell_type": "code",
   "execution_count": null,
   "metadata": {},
   "outputs": [],
   "source": [
    "import json\n",
    "import pandas as pd\n",
    "data = json.loads(rqq.content.decode('utf-8'))\n",
    "author = [i['author'] for i in data['data']]\n",
    "price = [i['price'] for i in data['data']]\n",
    "bookName = [i['bookName'] for i in data['data']]\n",
    "pd.DataFrame({'作者': author, '价格': price, '书名': bookName})"
   ]
  },
  {
   "cell_type": "markdown",
   "metadata": {},
   "source": [
    "# 使用Selenium爬取动态网页"
   ]
  },
  {
   "cell_type": "code",
   "execution_count": null,
   "metadata": {},
   "outputs": [],
   "source": [
    "from selenium import webdriver\n",
    "driver = webdriver.Chrome()\n",
    "driver.get('http://www.ptpress.com.cn/')"
   ]
  },
  {
   "cell_type": "code",
   "execution_count": null,
   "metadata": {},
   "outputs": [],
   "source": [
    "driver.page_source"
   ]
  },
  {
   "cell_type": "code",
   "execution_count": null,
   "metadata": {},
   "outputs": [],
   "source": [
    "driver.close()"
   ]
  },
  {
   "cell_type": "code",
   "execution_count": null,
   "metadata": {},
   "outputs": [],
   "source": [
    "from selenium import webdriver\n",
    "from selenium.webdriver.support import expected_conditions as EC\n",
    "from selenium.webdriver.support.ui import WebDriverWait\n",
    "from selenium.webdriver.common.by import By\n",
    "\n",
    "driver = webdriver.Chrome()\n",
    "driver.get('http://www.ptpress.com.cn/shopping/index')\n",
    "\n",
    "wait = WebDriverWait(driver, 10)\n",
    "\n",
    "confirm_btn = wait.until(EC.element_to_be_clickable(\n",
    "    (By.CSS_SELECTOR, 'body > div.classifySearch-p > div > div.classifySearchBar > div.allSearch > a > i')\n",
    "))\n",
    "\n",
    "# driver.close()"
   ]
  },
  {
   "cell_type": "code",
   "execution_count": null,
   "metadata": {},
   "outputs": [],
   "source": [
    "driver.close()"
   ]
  },
  {
   "cell_type": "code",
   "execution_count": 3,
   "metadata": {},
   "outputs": [],
   "source": [
    "from selenium import webdriver\n",
    "from selenium.webdriver.support import expected_conditions as EC\n",
    "from selenium.webdriver.support.ui import WebDriverWait\n",
    "from selenium.webdriver.common.by import By\n",
    "\n",
    "driver = webdriver.Chrome()\n",
    "driver.get('http://www.ptpress.com.cn/shopping/index')\n",
    "\n",
    "wait = WebDriverWait(driver, 10)"
   ]
  },
  {
   "cell_type": "code",
   "execution_count": 6,
   "metadata": {},
   "outputs": [],
   "source": [
    "before = driver.current_window_handle"
   ]
  },
  {
   "cell_type": "code",
   "execution_count": 9,
   "metadata": {},
   "outputs": [],
   "source": [
    "search_btn = driver.find_element_by_css_selector(\n",
    "    'body > div.classifySearch-p > div > div.classifySearchBar > div.allSearch > input'\n",
    ")\n",
    "search_btn.send_keys('python编程')"
   ]
  },
  {
   "cell_type": "code",
   "execution_count": 11,
   "metadata": {},
   "outputs": [],
   "source": [
    "confirm_btn = wait.until(\n",
    "    EC.element_to_be_clickable(\n",
    "        (By.CSS_SELECTOR, 'body > div.classifySearch-p > div > div.classifySearchBar > div.allSearch > a > i')\n",
    "    )\n",
    ")\n",
    "confirm_btn.click()"
   ]
  },
  {
   "cell_type": "code",
   "execution_count": 16,
   "metadata": {},
   "outputs": [],
   "source": [
    "driver.switch_to_window(driver.window_handles[1])\n",
    "html = driver.page_source"
   ]
  },
  {
   "cell_type": "code",
   "execution_count": 22,
   "metadata": {},
   "outputs": [
    {
     "name": "stdout",
     "output_type": "stream",
     "text": [
      "['青少年Python编程入门', 'Python编程基础与应用', 'Python编程无师自通 专业程序员的养成', 'Python编程从入门到精通', '我的Python世界 玩《Minecraft我的世界》学Python编程', 'Python编程导论 第2版', 'Python编程基础', '基于ArcGIS的Python编程秘笈（第2版）', 'Python编程基础', '树莓派Python编程入门与实战（第2版）', 'Python编程 从入门到实践', 'Python编程快速上手 让繁琐工作自动化', '爱上Python 一日精通Python编程', '树莓派Python编程入门与实战', 'Python编程初学者指南', '趣学Python编程', 'Python编程入门(第3版)']\n",
      "['￥36.00', '￥31.84', '￥47.20', '￥63.20', '￥55.20', '￥55.20', '￥31.84', '￥55.20', '￥36.00', '￥55.20', '￥71.20', '￥55.20', '￥31.20', '￥55.20', '￥47.20', '￥36.00', '￥31.20']\n"
     ]
    }
   ],
   "source": [
    "from bs4 import BeautifulSoup\n",
    "\n",
    "soup = BeautifulSoup(html, 'lxml')\n",
    "dat = [i.text for i in soup.select('#search > div.book-floor > ul > li > p')]\n",
    "print(dat[::2])\n",
    "print(dat[1::2])"
   ]
  },
  {
   "cell_type": "code",
   "execution_count": 23,
   "metadata": {},
   "outputs": [
    {
     "data": {
      "text/html": [
       "<div>\n",
       "<style>\n",
       "    .dataframe thead tr:only-child th {\n",
       "        text-align: right;\n",
       "    }\n",
       "\n",
       "    .dataframe thead th {\n",
       "        text-align: left;\n",
       "    }\n",
       "\n",
       "    .dataframe tbody tr th {\n",
       "        vertical-align: top;\n",
       "    }\n",
       "</style>\n",
       "<table border=\"1\" class=\"dataframe\">\n",
       "  <thead>\n",
       "    <tr style=\"text-align: right;\">\n",
       "      <th></th>\n",
       "      <th>价格</th>\n",
       "      <th>名称</th>\n",
       "    </tr>\n",
       "  </thead>\n",
       "  <tbody>\n",
       "    <tr>\n",
       "      <th>0</th>\n",
       "      <td>￥36.00</td>\n",
       "      <td>青少年Python编程入门</td>\n",
       "    </tr>\n",
       "    <tr>\n",
       "      <th>1</th>\n",
       "      <td>￥31.84</td>\n",
       "      <td>Python编程基础与应用</td>\n",
       "    </tr>\n",
       "    <tr>\n",
       "      <th>2</th>\n",
       "      <td>￥47.20</td>\n",
       "      <td>Python编程无师自通 专业程序员的养成</td>\n",
       "    </tr>\n",
       "    <tr>\n",
       "      <th>3</th>\n",
       "      <td>￥63.20</td>\n",
       "      <td>Python编程从入门到精通</td>\n",
       "    </tr>\n",
       "    <tr>\n",
       "      <th>4</th>\n",
       "      <td>￥55.20</td>\n",
       "      <td>我的Python世界 玩《Minecraft我的世界》学Python编程</td>\n",
       "    </tr>\n",
       "    <tr>\n",
       "      <th>5</th>\n",
       "      <td>￥55.20</td>\n",
       "      <td>Python编程导论 第2版</td>\n",
       "    </tr>\n",
       "    <tr>\n",
       "      <th>6</th>\n",
       "      <td>￥31.84</td>\n",
       "      <td>Python编程基础</td>\n",
       "    </tr>\n",
       "    <tr>\n",
       "      <th>7</th>\n",
       "      <td>￥55.20</td>\n",
       "      <td>基于ArcGIS的Python编程秘笈（第2版）</td>\n",
       "    </tr>\n",
       "    <tr>\n",
       "      <th>8</th>\n",
       "      <td>￥36.00</td>\n",
       "      <td>Python编程基础</td>\n",
       "    </tr>\n",
       "    <tr>\n",
       "      <th>9</th>\n",
       "      <td>￥55.20</td>\n",
       "      <td>树莓派Python编程入门与实战（第2版）</td>\n",
       "    </tr>\n",
       "    <tr>\n",
       "      <th>10</th>\n",
       "      <td>￥71.20</td>\n",
       "      <td>Python编程 从入门到实践</td>\n",
       "    </tr>\n",
       "    <tr>\n",
       "      <th>11</th>\n",
       "      <td>￥55.20</td>\n",
       "      <td>Python编程快速上手 让繁琐工作自动化</td>\n",
       "    </tr>\n",
       "    <tr>\n",
       "      <th>12</th>\n",
       "      <td>￥31.20</td>\n",
       "      <td>爱上Python 一日精通Python编程</td>\n",
       "    </tr>\n",
       "    <tr>\n",
       "      <th>13</th>\n",
       "      <td>￥55.20</td>\n",
       "      <td>树莓派Python编程入门与实战</td>\n",
       "    </tr>\n",
       "    <tr>\n",
       "      <th>14</th>\n",
       "      <td>￥47.20</td>\n",
       "      <td>Python编程初学者指南</td>\n",
       "    </tr>\n",
       "    <tr>\n",
       "      <th>15</th>\n",
       "      <td>￥36.00</td>\n",
       "      <td>趣学Python编程</td>\n",
       "    </tr>\n",
       "    <tr>\n",
       "      <th>16</th>\n",
       "      <td>￥31.20</td>\n",
       "      <td>Python编程入门(第3版)</td>\n",
       "    </tr>\n",
       "  </tbody>\n",
       "</table>\n",
       "</div>"
      ],
      "text/plain": [
       "        价格                                    名称\n",
       "0   ￥36.00                         青少年Python编程入门\n",
       "1   ￥31.84                         Python编程基础与应用\n",
       "2   ￥47.20                 Python编程无师自通 专业程序员的养成\n",
       "3   ￥63.20                        Python编程从入门到精通\n",
       "4   ￥55.20  我的Python世界 玩《Minecraft我的世界》学Python编程\n",
       "5   ￥55.20                        Python编程导论 第2版\n",
       "6   ￥31.84                            Python编程基础\n",
       "7   ￥55.20              基于ArcGIS的Python编程秘笈（第2版）\n",
       "8   ￥36.00                            Python编程基础\n",
       "9   ￥55.20                 树莓派Python编程入门与实战（第2版）\n",
       "10  ￥71.20                       Python编程 从入门到实践\n",
       "11  ￥55.20                 Python编程快速上手 让繁琐工作自动化\n",
       "12  ￥31.20                 爱上Python 一日精通Python编程\n",
       "13  ￥55.20                      树莓派Python编程入门与实战\n",
       "14  ￥47.20                         Python编程初学者指南\n",
       "15  ￥36.00                            趣学Python编程\n",
       "16  ￥31.20                       Python编程入门(第3版)"
      ]
     },
     "execution_count": 23,
     "metadata": {},
     "output_type": "execute_result"
    }
   ],
   "source": [
    "import pandas as pd\n",
    "pd.DataFrame({'价格':dat[1::2], '名称': dat[::2]})"
   ]
  },
  {
   "cell_type": "code",
   "execution_count": null,
   "metadata": {},
   "outputs": [],
   "source": []
  }
 ],
 "metadata": {
  "kernelspec": {
   "display_name": "Python 3",
   "language": "python",
   "name": "python3"
  },
  "language_info": {
   "codemirror_mode": {
    "name": "ipython",
    "version": 3
   },
   "file_extension": ".py",
   "mimetype": "text/x-python",
   "name": "python",
   "nbconvert_exporter": "python",
   "pygments_lexer": "ipython3",
   "version": "3.6.6"
  },
  "toc": {
   "base_numbering": 1,
   "nav_menu": {},
   "number_sections": true,
   "sideBar": true,
   "skip_h1_title": false,
   "title_cell": "Table of Contents",
   "title_sidebar": "Contents",
   "toc_cell": false,
   "toc_position": {},
   "toc_section_display": true,
   "toc_window_display": false
  }
 },
 "nbformat": 4,
 "nbformat_minor": 2
}
